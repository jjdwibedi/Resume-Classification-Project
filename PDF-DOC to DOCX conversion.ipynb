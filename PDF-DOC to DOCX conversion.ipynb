{
 "cells": [
  {
   "cell_type": "code",
   "execution_count": 3,
   "id": "3472168d",
   "metadata": {},
   "outputs": [],
   "source": [
    "from glob import glob\n",
    "import os\n",
    "import win32com.client as win32\n",
    "from win32com.client import constants\n",
    "from tqdm import tqdm_notebook\n",
    "from pdf2docx import Converter\n",
    "import pythoncom\n",
    "import sys"
   ]
  },
  {
   "cell_type": "code",
   "execution_count": 4,
   "id": "7deb1be5",
   "metadata": {},
   "outputs": [],
   "source": [
    "def save_as_docx(path):\n",
    "    \n",
    "    word = win32.gencache.EnsureDispatch('Word.Application')\n",
    "    doc = word.Documents.Open(path)\n",
    "    doc.Activate()\n",
    "    \n",
    "    new_file_abs = os.path.splitext(os.path.abspath(path))[0] + \".docx\"\n",
    "    \n",
    "    word.ActiveDocument.SaveAs(\n",
    "        new_file_abs, FileFormat=constants.wdFormatXMLDocument\n",
    "    )\n",
    "    doc.Close(False)"
   ]
  },
  {
   "cell_type": "code",
   "execution_count": 10,
   "id": "5dae39a8",
   "metadata": {},
   "outputs": [
    {
     "name": "stderr",
     "output_type": "stream",
     "text": [
      "C:\\Users\\Sonal\\AppData\\Local\\Temp\\ipykernel_5960\\1524732849.py:2: TqdmDeprecationWarning: This function will be removed in tqdm==5.0.0\n",
      "Please use `tqdm.notebook.tqdm` instead of `tqdm.tqdm_notebook`\n",
      "  for file in tqdm_notebook(os.listdir(folder_path)):\n"
     ]
    },
    {
     "data": {
      "application/vnd.jupyter.widget-view+json": {
       "model_id": "6233c90a6cdf48e9992cce74d936c377",
       "version_major": 2,
       "version_minor": 0
      },
      "text/plain": [
       "  0%|          | 0/21 [00:00<?, ?it/s]"
      ]
     },
     "metadata": {},
     "output_type": "display_data"
    }
   ],
   "source": [
    "folder_path = r'F:\\Data Science\\Projects\\NLP\\Resumes\\workday resumes'\n",
    "for file in tqdm_notebook(os.listdir(folder_path)):\n",
    "    file_path = os.path.join(folder_path, file)\n",
    "    if file.endswith('.doc'):\n",
    "        save_as_docx(file_path)\n",
    "    elif file.endswith('.pdf'):\n",
    "        cv = Converter(file_path)\n",
    "        basename = os.path.splitext(file)[0]\n",
    "        cv.convert(folder_path + '/' + basename+'.docx', start=0, end=None)\n",
    "        cv.close()"
   ]
  },
  {
   "cell_type": "code",
   "execution_count": null,
   "id": "f3b666ba",
   "metadata": {},
   "outputs": [],
   "source": []
  }
 ],
 "metadata": {
  "kernelspec": {
   "display_name": "Python 3 (ipykernel)",
   "language": "python",
   "name": "python3"
  },
  "language_info": {
   "codemirror_mode": {
    "name": "ipython",
    "version": 3
   },
   "file_extension": ".py",
   "mimetype": "text/x-python",
   "name": "python",
   "nbconvert_exporter": "python",
   "pygments_lexer": "ipython3",
   "version": "3.10.9"
  }
 },
 "nbformat": 4,
 "nbformat_minor": 5
}
