{
  "nbformat": 4,
  "nbformat_minor": 0,
  "metadata": {
    "colab": {
      "provenance": []
    },
    "kernelspec": {
      "name": "python3",
      "display_name": "Python 3"
    },
    "language_info": {
      "name": "python"
    }
  },
  "cells": [
    {
      "cell_type": "code",
      "execution_count": 9,
      "metadata": {
        "colab": {
          "base_uri": "https://localhost:8080/",
          "height": 393
        },
        "id": "Ak3c3n-Dx89L",
        "outputId": "14e88ae3-f4fe-4a66-ceb1-db2468a0c3b2"
      },
      "outputs": [
        {
          "output_type": "error",
          "ename": "ModuleNotFoundError",
          "evalue": "ignored",
          "traceback": [
            "\u001b[0;31m---------------------------------------------------------------------------\u001b[0m",
            "\u001b[0;31mModuleNotFoundError\u001b[0m                       Traceback (most recent call last)",
            "\u001b[0;32m<ipython-input-9-fca38de8770c>\u001b[0m in \u001b[0;36m<cell line: 4>\u001b[0;34m()\u001b[0m\n\u001b[1;32m      2\u001b[0m \u001b[0;32mimport\u001b[0m \u001b[0mre\u001b[0m\u001b[0;34m\u001b[0m\u001b[0;34m\u001b[0m\u001b[0m\n\u001b[1;32m      3\u001b[0m \u001b[0;32mimport\u001b[0m \u001b[0mcsv\u001b[0m\u001b[0;34m\u001b[0m\u001b[0;34m\u001b[0m\u001b[0m\n\u001b[0;32m----> 4\u001b[0;31m \u001b[0;32mfrom\u001b[0m \u001b[0mdocx\u001b[0m \u001b[0;32mimport\u001b[0m \u001b[0mDocument\u001b[0m\u001b[0;34m\u001b[0m\u001b[0;34m\u001b[0m\u001b[0m\n\u001b[0m\u001b[1;32m      5\u001b[0m \u001b[0;32mfrom\u001b[0m \u001b[0mPyPDF2\u001b[0m \u001b[0;32mimport\u001b[0m \u001b[0mPdfReader\u001b[0m\u001b[0;34m\u001b[0m\u001b[0;34m\u001b[0m\u001b[0m\n\u001b[1;32m      6\u001b[0m \u001b[0;32mimport\u001b[0m \u001b[0mwin32com\u001b[0m\u001b[0;34m.\u001b[0m\u001b[0mclient\u001b[0m \u001b[0;32mas\u001b[0m \u001b[0mwin32\u001b[0m\u001b[0;34m\u001b[0m\u001b[0;34m\u001b[0m\u001b[0m\n",
            "\u001b[0;31mModuleNotFoundError\u001b[0m: No module named 'docx'",
            "",
            "\u001b[0;31m---------------------------------------------------------------------------\u001b[0;32m\nNOTE: If your import is failing due to a missing package, you can\nmanually install dependencies using either !pip or !apt.\n\nTo view examples of installing some common dependencies, click the\n\"Open Examples\" button below.\n\u001b[0;31m---------------------------------------------------------------------------\u001b[0m\n"
          ],
          "errorDetails": {
            "actions": [
              {
                "action": "open_url",
                "actionText": "Open Examples",
                "url": "/notebooks/snippets/importing_libraries.ipynb"
              }
            ]
          }
        }
      ],
      "source": [
        "import os \n",
        "import re \n",
        "import csv \n",
        "from docx import Document \n",
        "from PyPDF2 import PdfReader \n",
        "import win32com.client as win32 \n",
        "from win32com.client import constants\n",
        "import glob\n",
        "\n",
        "def extract_text_from_pdf(file_path):\n",
        "    with open(file_path, 'rb') as file:\n",
        "        reader = PdfReader(file)\n",
        "        text = ''\n",
        "        for page in reader.pages:\n",
        "            text += page.extract_text()\n",
        "        return text\n",
        "\n",
        "def extract_text_from_docx(file_path):\n",
        "    doc = Document(file_path)\n",
        "    paragraphs = [p.text for p in doc.paragraphs]\n",
        "    return '\\n'.join(paragraphs)\n",
        "\n",
        "def save_as_docx(file_path):\n",
        "    # Opening MS Word\n",
        "    word = win32.gencache.EnsureDispatch('Word.Application')\n",
        "    doc = word.Documents.Open(file_path)\n",
        "    doc.Activate()\n",
        "\n",
        "    # Rename path with .docx\n",
        "    new_file_abs = os.path.abspath(file_path)\n",
        "    new_file_abs = os.path.splitext(file_path)[0] + '.docx'\n",
        "\n",
        "    # Save and Close\n",
        "    word.ActiveDocument.SaveAs(\n",
        "        new_file_abs, FileFormat=constants.wdFormatXMLDocument\n",
        "    )\n",
        "    doc.Close(False)\n",
        "\n",
        "def clean_text(text):\n",
        "    cleaned_text = re.sub(r'\\s+', ' ', text)  # Remove extra space\n",
        "    return cleaned_text\n",
        "\n",
        "# Database path:\n",
        "input_directory = r\"D:\\Projects\\Classification Project\\Resumes\"\n",
        "output_csv = 'output2.csv'\n",
        "\n",
        "with open(output_csv, 'w', newline='', encoding='utf-8') as csv_file:\n",
        "    writer = csv.writer(csv_file)\n",
        "    writer.writerow(['Text'])  # Write header row\n",
        "\n",
        "    for file_name in os.listdir(input_directory):\n",
        "        file_path = os.path.join(input_directory, file_name)\n",
        "        if file_name.lower().endswith('.pdf'):\n",
        "            text = extract_text_from_pdf(file_path)\n",
        "        elif file_name.lower().endswith('.docx'):\n",
        "            text = extract_text_from_docx(file_path)\n",
        "        elif file_name.lower().endswith('.doc'):\n",
        "            save_as_docx(file_path)\n",
        "            text = extract_text_from_docx(file_path + 'x')\n",
        "            os.remove(file_path + 'x')  # Remove the temporary .docx file\n",
        "        else:\n",
        "            print(f\"Skipping file: {file_name}. Unsupported file format.\")\n",
        "            continue\n",
        "        \n",
        "        cleaned_text = clean_text(text)\n",
        "        writer.writerow([cleaned_text])\n",
        "\n",
        "print(\"Extraction and cleaning complete. Saved to output2.csv.\")"
      ]
    },
    {
      "cell_type": "code",
      "source": [],
      "metadata": {
        "id": "G_6A7pnYyouy"
      },
      "execution_count": null,
      "outputs": []
    }
  ]
}